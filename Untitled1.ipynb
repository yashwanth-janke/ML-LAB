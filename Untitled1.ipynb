{
 "cells": [
  {
   "cell_type": "code",
   "execution_count": 1,
   "id": "7bfa0af3",
   "metadata": {},
   "outputs": [
    {
     "name": "stdout",
     "output_type": "stream",
     "text": [
      "[0.4  0.2  0.15]\n",
      "Input: [0 0], Predicted Output: 0\n",
      "Input: [0 1], Predicted Output: 1\n",
      "Input: [1 0], Predicted Output: 1\n",
      "Input: [1 1], Predicted Output: 1\n"
     ]
    }
   ],
   "source": [
    "import numpy as np\n",
    "\n",
    "class Perceptron:\n",
    "    def __init__(self, input_size, learning_rate=0.05, epochs=4):\n",
    "        self.input_size = input_size\n",
    "        self.learning_rate = learning_rate\n",
    "        self.epochs = epochs\n",
    "        self.weights = np.array([0.1, 0, 0])\n",
    "        \n",
    "    def activation_function(self, x):\n",
    "        return 1 if x > 0.5 else 0\n",
    "    \n",
    "    def predict(self, inputs):\n",
    "        summation = np.dot(inputs, self.weights[1:]) + self.weights[0]\n",
    "        return self.activation_function(summation)\n",
    "    \n",
    "    def train(self, training_inputs, labels):\n",
    "        for _ in range(self.epochs):\n",
    "            for inputs, label in zip(training_inputs, labels):\n",
    "                prediction = self.predict(inputs)\n",
    "                self.weights[1:] += self.learning_rate * (label - prediction) * inputs\n",
    "                self.weights[0] += self.learning_rate * (label - prediction)\n",
    "        print(self.weights)\n",
    "\n",
    "# Training data for AND gate\n",
    "training_inputs = np.array([[0, 0], [1, 0], [0, 1], [1, 1]])\n",
    "labels = np.array([0, 1, 1, 1])\n",
    "\n",
    "# Create and train the perceptron\n",
    "perceptron = Perceptron(input_size=2)\n",
    "perceptron.train(training_inputs, labels)\n",
    "\n",
    "# Test the perceptron\n",
    "test_inputs = np.array([[0, 0], [0, 1], [1, 0], [1, 1]])\n",
    "for inputs in test_inputs:\n",
    "    print(f\"Input: {inputs}, Predicted Output: {perceptron.predict(inputs)}\")"
   ]
  },
  {
   "cell_type": "code",
   "execution_count": 18,
   "id": "9b6abd2a",
   "metadata": {},
   "outputs": [
    {
     "name": "stdout",
     "output_type": "stream",
     "text": [
      "[0.4  0.2  0.15]\n"
     ]
    }
   ],
   "source": [
    "print(perceptron.weights)"
   ]
  },
  {
   "cell_type": "code",
   "execution_count": null,
   "id": "d323a868",
   "metadata": {},
   "outputs": [],
   "source": []
  }
 ],
 "metadata": {
  "kernelspec": {
   "display_name": "Python 3 (ipykernel)",
   "language": "python",
   "name": "python3"
  },
  "language_info": {
   "codemirror_mode": {
    "name": "ipython",
    "version": 3
   },
   "file_extension": ".py",
   "mimetype": "text/x-python",
   "name": "python",
   "nbconvert_exporter": "python",
   "pygments_lexer": "ipython3",
   "version": "3.11.4"
  }
 },
 "nbformat": 4,
 "nbformat_minor": 5
}
